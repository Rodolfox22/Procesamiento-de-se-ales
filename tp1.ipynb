{
 "cells": [
  {
   "cell_type": "markdown",
   "metadata": {},
   "source": [
    "Variables globales"
   ]
  },
  {
   "cell_type": "code",
   "execution_count": null,
   "metadata": {},
   "outputs": [],
   "source": [
    "ingreso_entero = \"Ingrese un número entero\""
   ]
  },
  {
   "cell_type": "markdown",
   "metadata": {},
   "source": [
    "Ejercicio 1"
   ]
  },
  {
   "cell_type": "code",
   "execution_count": 88,
   "metadata": {},
   "outputs": [
    {
     "name": "stdout",
     "output_type": "stream",
     "text": [
      "El resultado de la suma es 7.8\n"
     ]
    }
   ],
   "source": [
    "#A\n",
    "x = float(input(\"Ingrese un numero con decimales\"))\n",
    "#B\n",
    "y = float(input(ingreso_entero))\n",
    "#C\n",
    "suma = x + y\n",
    "#D\n",
    "print(f\"El resultado de la suma es {suma}\")"
   ]
  },
  {
   "cell_type": "markdown",
   "metadata": {},
   "source": [
    "Ejercicio 2"
   ]
  },
  {
   "cell_type": "code",
   "execution_count": 68,
   "metadata": {},
   "outputs": [
    {
     "name": "stdout",
     "output_type": "stream",
     "text": [
      "En un kilometro consume: 0.03 litros\n",
      "Con un litro se realizan: 33.33 kilometros\n"
     ]
    }
   ],
   "source": [
    "km = float(input(\"Ingrese los Kilometros recorridos\"))\n",
    "litros = float(input(\"Ingrese los litros consumidos\"))\n",
    "l_km = round(litros/km,2)\n",
    "print(f\"En un kilometro consume: {l_km} litros\")\n",
    "\n",
    "km_l = round(km/litros,2)\n",
    "print(f\"Con un litro se realizan: {km_l} kilometros\")"
   ]
  },
  {
   "cell_type": "markdown",
   "metadata": {},
   "source": [
    "Ejercicio 3"
   ]
  },
  {
   "cell_type": "code",
   "execution_count": 75,
   "metadata": {},
   "outputs": [
    {
     "name": "stdout",
     "output_type": "stream",
     "text": [
      "Conversión: 10ºF son -12.2ºC\n"
     ]
    }
   ],
   "source": [
    "temp_fahrenheit=float(input(\"Temperatura en fahrenheit:\"))\n",
    "Celsius = round((5/9) * (temp_fahrenheit-32),1)\n",
    "print(f\"Conversión: {int(temp_fahrenheit)}ºF son {Celsius}ºC\")"
   ]
  },
  {
   "cell_type": "markdown",
   "metadata": {},
   "source": [
    "Ejercicio 4"
   ]
  },
  {
   "cell_type": "code",
   "execution_count": 24,
   "metadata": {},
   "outputs": [
    {
     "name": "stdout",
     "output_type": "stream",
     "text": [
      "El promedio de los numeros ingresados es de  26.7\n"
     ]
    }
   ],
   "source": [
    "num1=float(input(\"Numero 1\"))\n",
    "num2=float(input(\"Numero 2\"))\n",
    "num3=float(input(\"Numero 3\"))\n",
    "\n",
    "promedio=round((num1+num2+num3)/3,1)\n",
    "print(f\"El promedio de los numeros ingresados es de {promedio}\")"
   ]
  },
  {
   "cell_type": "markdown",
   "metadata": {},
   "source": [
    "Ejercicio 5"
   ]
  },
  {
   "cell_type": "code",
   "execution_count": 91,
   "metadata": {},
   "outputs": [
    {
     "name": "stdout",
     "output_type": "stream",
     "text": [
      "El número 789 es impar\n"
     ]
    }
   ],
   "source": [
    "valor = int(input(ingreso_entero))\n",
    "es_par = \"par\"\n",
    "\n",
    "if valor % 2 == 0:\n",
    "  es_par = \"impar\"\n",
    "\n",
    "print(f\"El número {valor} es {es_par}\")\n"
   ]
  },
  {
   "cell_type": "markdown",
   "metadata": {},
   "source": [
    "Ejercicio 6"
   ]
  },
  {
   "cell_type": "code",
   "execution_count": 78,
   "metadata": {},
   "outputs": [
    {
     "name": "stdout",
     "output_type": "stream",
     "text": [
      "El valor absoluro del número -564 es: 564\n"
     ]
    }
   ],
   "source": [
    "ingresado = int(input(ingreso_entero))\n",
    "entero = abs(ingresado)\n",
    "print(f\"El valor absoluro del número {ingresado} es: {entero}\")"
   ]
  },
  {
   "cell_type": "markdown",
   "metadata": {},
   "source": [
    "Ejercicio 7"
   ]
  },
  {
   "cell_type": "code",
   "execution_count": 81,
   "metadata": {},
   "outputs": [
    {
     "name": "stdout",
     "output_type": "stream",
     "text": [
      "El mayor número ingresado es el 15\n"
     ]
    }
   ],
   "source": [
    "numero1 = int(input(ingreso_entero))\n",
    "numero2 = int(input(\"Ingrese otro número\"))\n",
    "\n",
    "maximo = max(numero1, numero2)\n",
    "\n",
    "if numero1 == numero2:\n",
    "    print(f\"Ambos número ingresados son iguales: {numero1}\")\n",
    "else:\n",
    "    print(f\"El mayor número ingresado es el {maximo}\")"
   ]
  },
  {
   "cell_type": "markdown",
   "metadata": {},
   "source": [
    "Ejercicio 8"
   ]
  },
  {
   "cell_type": "code",
   "execution_count": 100,
   "metadata": {},
   "outputs": [
    {
     "name": "stdout",
     "output_type": "stream",
     "text": [
      "El factorial del número 51 es 1551118753287382280224243016469303211063259720016986112000000000000\n"
     ]
    }
   ],
   "source": [
    "def factorial(num):\n",
    "  #print(num)\n",
    "  if num <= 1:\n",
    "    return 1\n",
    "  else:\n",
    "    return num * factorial(num-1)\n",
    "   \n",
    "fact=int(input(ingreso_entero))\n",
    "#fact=73\n",
    "  \n",
    "if fact < 0:\n",
    "  print(\"El número ingresado no es positivo\")\n",
    "else:\n",
    "  resultado = factorial(fact)\n",
    "  print(f\"El factorial del número {fact} es {resultado}\")"
   ]
  },
  {
   "cell_type": "markdown",
   "metadata": {},
   "source": [
    "Ejercicio 9"
   ]
  },
  {
   "cell_type": "code",
   "execution_count": 21,
   "metadata": {},
   "outputs": [
    {
     "name": "stdout",
     "output_type": "stream",
     "text": [
      "La suma de los numeros pares da como resultado:  30\n",
      "La suma de los numeros impares da como resultado:  25\n"
     ]
    }
   ],
   "source": [
    "def esPar(valor):\n",
    " if valor % 2 == 0:\n",
    "   return True\n",
    " return False\n",
    "\n",
    "pares=[]\n",
    "impares=[]\n",
    "\n",
    "for x in range(10):\n",
    " numero = int(input(ingreso_entero))\n",
    " if esPar(numero):\n",
    "   pares.append(numero)\n",
    " else:\n",
    "   impares.append(numero)\n",
    "\n",
    "suma_pares = sum(pares)\n",
    "suma_impares = sum(impares)\n",
    "\n",
    "print(f\"La suma de los numeros pares da como resultado: {suma_pares}\")\n",
    "print(f\"La suma de los numeros impares da como resultado: {suma_impares}\")"
   ]
  },
  {
   "cell_type": "markdown",
   "metadata": {},
   "source": [
    "Ejercicio 10"
   ]
  },
  {
   "cell_type": "code",
   "execution_count": 1,
   "metadata": {},
   "outputs": [
    {
     "name": "stdout",
     "output_type": "stream",
     "text": [
      "Matriz de entrada: [1, 2, 3, 4, 5, 6, 7, 8, 9, 10]\n",
      "Matriz acumulada: [1, 3, 6, 10, 15, 21, 28, 36, 45, 55]\n"
     ]
    }
   ],
   "source": [
    "def acumulado(matriz):\n",
    "  matriz_acumulada = []\n",
    "  indice = 0\n",
    "  for x in matriz:\n",
    "    try:\n",
    "      matriz_acumulada.append(x + matriz_acumulada[indice-1])\n",
    "    except:\n",
    "      matriz_acumulada.append(x)\n",
    "    finally:\n",
    "      indice+=1\n",
    "  return matriz_acumulada\n",
    "\n",
    "matriz_de_trabajo =[1,2,3,4,5,6,7,8,9,10]\n",
    "\n",
    "matriz_resultado = acumulado(matriz_de_trabajo)\n",
    "\n",
    "print(f\"Matriz de entrada: {matriz_de_trabajo}\")\n",
    "print(f\"Matriz acumulada: {matriz_resultado}\")"
   ]
  },
  {
   "cell_type": "markdown",
   "metadata": {},
   "source": [
    "Ejercicio 11"
   ]
  },
  {
   "cell_type": "code",
   "execution_count": 87,
   "metadata": {},
   "outputs": [
    {
     "name": "stdout",
     "output_type": "stream",
     "text": [
      "[10, 2, 30, 4, 50, 6, 70, 8, 90, 10]\n",
      "[2, 30, 4, 50, 6, 70, 8, 90]\n",
      "[30, 4, 50, 6, 70, 8]\n"
     ]
    }
   ],
   "source": [
    "#modificar la lista existente\n",
    "def elimina(lista):\n",
    "  lista_resultado = []\n",
    "  indice=0\n",
    "  for x in lista:\n",
    "    lista_resultado.append(x) if indice != 0 else next\n",
    "    indice+=1\n",
    "\n",
    "  lista_resultado.pop()\n",
    "\n",
    "  return lista_resultado\n",
    "\n",
    "#generar nueva lista\n",
    "def media(lista):\n",
    "  \n",
    "  return elimina(elimina(lista))\n",
    "\n",
    "matriz_eliminada = elimina(matriz_de_trabajo)\n",
    "print(matriz_de_trabajo)\n",
    "print(matriz_eliminada)\n",
    "print(media(matriz_de_trabajo ))"
   ]
  }
 ],
 "metadata": {
  "kernelspec": {
   "display_name": "Python 3",
   "language": "python",
   "name": "python3"
  },
  "language_info": {
   "codemirror_mode": {
    "name": "ipython",
    "version": 3
   },
   "file_extension": ".py",
   "mimetype": "text/x-python",
   "name": "python",
   "nbconvert_exporter": "python",
   "pygments_lexer": "ipython3",
   "version": "3.8.0"
  }
 },
 "nbformat": 4,
 "nbformat_minor": 2
}

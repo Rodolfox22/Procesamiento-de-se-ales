{
 "cells": [
  {
   "cell_type": "markdown",
   "metadata": {},
   "source": [
    "# Texto Enriquecido y Latex"
   ]
  },
  {
   "cell_type": "markdown",
   "metadata": {},
   "source": [
    "## Párrafos\n",
    "\n",
    "Los párrafos se separan por lineas en blanco. Si no hay una linea en blanco entre dos oraciones entonces ambas se incluyen en el mismo párrafo.\n",
    "\n",
    "## Encabezados\n",
    "\n",
    "Se utiliza el caracter numeral (#) para indicar un encabezado. El título principal se inicia con un solo numeral, los subtítulos con dos numerales, subsubtítulos con tres, etc. A continuación se observa cómo el formato va cambiando (achicándose el tamaño de la letra) con títulos cada vez más anidados. \n",
    "\n",
    "    \n",
    "# Encabezado 1\n",
    "## Encabezado 2\n",
    "### Encabezado 3\n",
    "#### Encabezado 4\n",
    "##### Encabezado 5\n",
    "\n"
   ]
  },
  {
   "cell_type": "markdown",
   "metadata": {},
   "source": [
    "## Estilos de texto\n",
    "\n",
    "Se pueden incluir los formatos más comunes mediante los siguientes códigos:\n",
    "\n",
    "| Código | Visualización |\n",
    "| :----: | :-----------: |\n",
    "| \\*Texto en cursiva\\* | *Texto en cursiva*   |\n",
    "| \\*\\*Texto en negrita\\*\\*      | **Texto en negrita** |\n",
    "| \\~\\~Texto tachado\\~\\~      | ~~Texto tachado~~ |\n"
   ]
  },
  {
   "cell_type": "markdown",
   "metadata": {},
   "source": [
    "## Tablas\n",
    "\n",
    "Las tablas pueden contener números, letras, fórmulas, imágenes... Se puede determinar la alineación de las columnas, pero puede ser que en algunos navegadores no se respete. A continuación se muestra el modo en que se ingresa la tabla.\n",
    "\n",
    "```\n",
    "|         Señal        |    Adquisición          | Rango de frecuencia  | Rango dinámico |\n",
    "| :------------------: | :---------------------: | :------------------: | :-------------:|\n",
    "| Electroencefalograma | Electrodo de aguja      |     0.5 Hz a 100 Hz  | 2 uV a 100 uV  |\n",
    "| Electrocardiograma   | Electrodo de superficie |     0.05 Hz a 100 Hz | 1 mV a 10 mV   |\n",
    "\n",
    "```\n",
    "\n",
    "La tabla tal como se reproduce al ejecutara la celda:\n",
    "\n",
    "|         Señal        |    Adquisición          | Rango de frecuencia  | Rango dinámico |\n",
    "| :------------------: | :---------------------: | :------------------: | :-------------:|\n",
    "| Electroencefalograma | Electrodo de aguja      |     0.5 Hz a 100 Hz  | 2 uV a 100 uV  |\n",
    "| Electrocardiograma   | Electrodo de superficie |     0.05 Hz a 100 Hz | 1 mV a 10 mV   |"
   ]
  },
  {
   "cell_type": "markdown",
   "metadata": {},
   "source": [
    "Puede especificar la alineación del texto en las columnas de una tabla utilizando los dos puntos \":\" para indicar la alineación.\n",
    "- Para alinear a la izquierda se deben colocar los dos puntos a la izquierda de los guiones en la fila de encabezado o en la línea que separa los encabezados de los datos.\n",
    "- Para alinear al centro, se deben colocar los dos puntos a ambos lados de los guiones.\n",
    "- Para alinear a la derecha, se deben colocar los dos puntos a la derecha de los guiones.\n",
    "\n",
    "```\n",
    "|         Señal        |    Adquisición          | Rango de frecuencia  | Rango dinámico |\n",
    "| :------------------- | :---------------------: | :------------------: | --------------:|\n",
    "| Electroencefalograma | Electrodo de aguja      |     0.5 Hz a 100 Hz  | 2 uV a 100 uV  |\n",
    "| Electrocardiograma   | Electrodo de superficie |     0.05 Hz a 100 Hz | 1 mV a 10 mV   |\n",
    "\n",
    "```"
   ]
  },
  {
   "cell_type": "markdown",
   "metadata": {},
   "source": [
    "## Citas\n",
    "\n",
    "Se pueden incluir citas utilizando el caracter \">\" al inicio de cada párrafo (o de cada linea):\n",
    "\n",
    "``` \n",
    "> EL PENAL MAS LARGO DEL MUNDO. **Osvaldo Soriano**\n",
    "\n",
    "> El penal más fantástico del que yo tenga noticia se tiró en 1958 en un lugar perdido del valle de Río Negro, en Argentina, un domingo por la tarde en un estadio vacío. \n",
    "> Estrella Polar era un club de billares y mesas de baraja, un boliche de borrachos en una calle de tierra que terminaba en la orilla del río. \n",
    "> Tenía un equipo de fútbol que participaba en el campeonato \n",
    "> del valle porque los domingos no había otra cosa que hacer y el viento arrastraba la arena de las bardas y el polen de las chacras. \n",
    "```\n",
    "\n",
    "Y así es como se verá:\n",
    "\n",
    "> EL PENAL MAS LARGO DEL MUNDO. **Osvaldo Soriano**\n",
    ">\n",
    "> El penal más fantástico del que yo tenga noticia se tiró en 1958 en un lugar perdido del valle de Río Negro, en Argentina, un domingo por la tarde en un estadio vacío. \n",
    "> Estrella Polar era un club de billares y mesas de baraja, un boliche de borrachos en una calle de tierra que terminaba en la orilla del río. \n",
    "> Tenía un equipo de fútbol que participaba en el campeonato \n",
    "> del valle porque los domingos no había otra cosa que hacer y el viento arrastraba la arena de las bardas y el polen de las chacras. "
   ]
  },
  {
   "cell_type": "markdown",
   "metadata": {},
   "source": [
    "## Listas ordenadas\n",
    "\n",
    "Prefijo: número y un punto, o también número y un paréntesis de cierre. La indentación determina items de la misma categoría. La numeración de la lista es automática, el primer elemento es el que determina el número inicial, y los siguientes se incrementan en uno. Al indentar cambia el tipo de la numeración.\n",
    "\n",
    "```\n",
    "3. Item 1\n",
    "1. Item 2\n",
    "1. Item 3\n",
    "    4. Subitem 1\n",
    "    3. Subitem 2\n",
    "       8. Subsubitem 1\n",
    "           8. Subsubsubsub\n",
    "    1. Subitem 3\n",
    "```\n",
    "\n",
    "La lista anterior se ve así:\n",
    "\n",
    "50. Item 1\n",
    "1. Item 2\n",
    "1. Item 3\n",
    "    1. Subitem 1\n",
    "    3. Subitem 2\n",
    "       8. Subsubitem 1\n",
    "           8. Subsubsubsub\n",
    "    1. Subitem 3"
   ]
  },
  {
   "cell_type": "markdown",
   "metadata": {},
   "source": [
    "### Listas desordenadas (y combinadas)\n",
    "\n",
    "Se pueden utilizar los siguientes caracteres como prefijos para cada uno de los items de la lista: - * +\n",
    "\n",
    "La indentación determina items de la misma categoría\n",
    "\n",
    "```\n",
    "- Item\n",
    "+ Item \n",
    "* Item\n",
    "    - Subitem\n",
    "       5. Subsubitem\n",
    "       0. Subsubitem\n",
    "       0. Subsubitem\n",
    "           8. Subsubsubsub\n",
    "               * item\n",
    "               * item\n",
    "    - Subitem\n",
    "```\n",
    "\n",
    "La lista anterior se ve así:\n",
    "\n",
    "- Item\n",
    "+ Item \n",
    "* Item\n",
    "    - Subitem\n",
    "       5. Subsubitem\n",
    "       0. Subsubitem\n",
    "       0. Subsubitem\n",
    "           8. Subsubsubsub\n",
    "               * item\n",
    "               * item\n",
    "    - Subitem"
   ]
  },
  {
   "cell_type": "markdown",
   "metadata": {},
   "source": [
    "## Enlaces\n",
    "\n",
    "El formato para ingresar enlaces es [texto](dirección http). Por ejemplo, un link a la página con la imagen del día en el sitio de la Nasa:\n",
    "\n",
    "```\n",
    "Código:\n",
    "[Astronomy Picture of the Day](http://apod.nasa.gov/apod/astropix.html)\n",
    "```\n",
    "Resultado:\n",
    "[Astronomy Picture of the Day](http://apod.nasa.gov/apod/astropix.html)"
   ]
  },
  {
   "cell_type": "markdown",
   "metadata": {},
   "source": [
    "## Imágenes\n",
    "\n",
    "El formato para ingresar imágenes es casi idéntico al anterior (`![título](path_to/nombreDeLaImagen.png)`), el signo de admiración indica que se trata de la inserción de una imagen (si no se usa este signo entonces queda un link a la imagen):\n",
    "\n",
    "Código:\n",
    "`![Woody y Buzz](files/imagenes/python-buzz.jpg)`\n",
    "\n",
    "Resultado:\n",
    "![Woody y Buzz](imagenes/python-buzz.jpg)"
   ]
  },
  {
   "cell_type": "markdown",
   "metadata": {},
   "source": [
    "## Video\n",
    "\n",
    "Mostrar videos no forma parte de las capacidades de mostrar texto enriquecido, pero sí es posible incluir videos utilizando unas pocas lineas de código en Python. Lo incluimos acá por la similitud de objetivos con la incorporación de imágenes estáticas en un documento. \n",
    "\n",
    "Para insertar videos de YouTube se utiliza una celda con código en Python en la cual se importa la librería que ofrece esta funcionalidad. Luego se instancia un objeto (con la dirección del video deseado, que se obtiene a partir de la URL del mismo) y finalmente se muestra, tal como se observa en la siguiente celda.   "
   ]
  },
  {
   "cell_type": "code",
   "execution_count": 2,
   "metadata": {},
   "outputs": [
    {
     "data": {
      "image/jpeg": "[encoded data removed]",
      "text/html": [
       "\n",
       "        <iframe\n",
       "            width=\"400\"\n",
       "            height=\"300\"\n",
       "            src=\"https://www.youtube.com/embed/KQetemT1sWc\"\n",
       "            frameborder=\"0\"\n",
       "            allowfullscreen\n",
       "            \n",
       "        ></iframe>\n",
       "        "
      ],
      "text/plain": [
       "<IPython.lib.display.YouTubeVideo at 0x1787994fad0>"
      ]
     },
     "metadata": {},
     "output_type": "display_data"
    }
   ],
   "source": [
    "# importar la clase que permite ver videos\n",
    "from IPython.display import YouTubeVideo\n",
    "\n",
    "# crear una instancia del objeto YouTubeVideo\n",
    "youtube_video = YouTubeVideo('KQetemT1sWc')\n",
    "\n",
    "# mostrar el video de YouTube\n",
    "display(youtube_video)"
   ]
  },
  {
   "cell_type": "markdown",
   "metadata": {},
   "source": [
    "## Código en Python (u otros lenguajes)\n",
    "\n",
    "Se puede incluir código usando las comillas simples invertidas y el nombre del lenguaje de programación, como en el siguiente ejemplo (doble click para editar y ver):\n",
    "\n",
    "``` Python\n",
    "def N(n0, tmedio, t):\n",
    "    '''Calcula la exponencial decreciente que describen los núcleos radiactivos al decaer\n",
    "    n0: núcleos iniciales\n",
    "    tmedio: semiperíodo de desintegración del radionucleido\n",
    "    t: tiempo\n",
    "    '''\n",
    "    lmbd = np.log(2)/tmedio\n",
    "    exponente = - lmbd * t\n",
    "    return n0 * np.exp(exponente)\n",
    "```"
   ]
  },
  {
   "cell_type": "markdown",
   "metadata": {},
   "source": [
    "## LaTeX\n",
    "\n",
    "LaTeX permite escribir ecuaciones y símbolos, y está optimizado para ofrecer una presentación de alta calidad, por lo que es ampliamente usado en el mundo científico. Para marcar el inicio y el final de un texto en LaTeX se utiliza el símbolo $, del siguiente modo: \n",
    "\n",
    "```\n",
    " $texto-en-latex$: con un solo símbolo $ al principio y al final del código se interpreta como una ecuación \"inline\", no se separa del párrafo en el cual aparece. El texto trata de ajustarse a la altura del renglón.\n",
    " \n",
    " $$texto-en-latex$$: con dos símbolos $$ al principio y al final del código se interpreta como un párrafo aparte, centrado. La ecuación o texto en latex aparece más expandido.\n",
    "```\n",
    "\n",
    "Por ejemplo, la ecuación $x = \\frac{1}{n!}$ está inline, y a continuación la misma ecuación en párrafo aparte: $$x = \\frac{1}{n!}$$"
   ]
  },
  {
   "cell_type": "markdown",
   "metadata": {},
   "source": [
    "### Letras griegas\n",
    "    \n",
    "| Código | Apariencia |\n",
    "|:-------: | :--------: |\n",
    "| \\alpha   | $\\alpha$ |\n",
    "| \\beta    | $\\beta$  |\n",
    "| \\pi      | $\\pi$    |"
   ]
  },
  {
   "cell_type": "markdown",
   "metadata": {},
   "source": [
    "### Índices\n",
    "\n",
    "- Superíndices: ^\n",
    "- Subíndices: _\n",
    "\n",
    "Para que un bloque de letras y/o números quede como superíndice o subíndice (y no solamente un caracter) se coloca toda la secuencia entre corchetes:\n",
    "\n",
    "| Código     | Apariencia | Comentario |\n",
    "|:-------:   | :--------: | :---: |\n",
    "| e^-\\lambda t | $e^-\\lambda t$ | Sólo el signo menos queda en la posición correcta |\n",
    "| e^{-\\lambda t} | $e^{-\\lambda t}$ | También lambda y t quedan como parte de la exponencial |\n",
    "| ^99mTc   | $^99mTc$ | Sólo el primer 9 queda en la posición de superíndice |\n",
    "| ^{99m}Tc | $^{99m}Tc$  | Escrito correctamente |"
   ]
  },
  {
   "cell_type": "markdown",
   "metadata": {},
   "source": [
    "## Fracciones\n",
    "\n",
    "| Código | Apariencia |\n",
    "| :-------: | :--------: |\n",
    "| \\frac{num}{den} | $\\frac{num}{den}$ |\n",
    "| \\frac{A \\cdot \\Gamma}{m^2} | $$\\frac{A \\cdot \\Gamma}{m^2}$$ |\n",
    "\n"
   ]
  },
  {
   "cell_type": "markdown",
   "metadata": {},
   "source": [
    "### Paréntesis, llaves y corchetes\n",
    "\n",
    "- **\\left(** y **\\right)** se escalan de acuerdo al contenido (ver el ejemplo en la última fila de la tabla siguiente):\n",
    "\n",
    "| Código | Apariencia |\n",
    "| :---: | :-----: |\n",
    "| \\left( \\right) | $\\left( \\right)$ |\n",
    "| \\left[ \\right] | $\\left[ \\right]$ |\n",
    "| \\left\\\\{ \\right\\\\} | $\\left\\{ \\right\\}$ |\n",
    "| \\left( \\int^{\\infty}_{n = -\\infty} \\frac{1}{n^2}\\right) | $\\left( \\int^{\\infty}_{n = -\\infty} \\frac{1}{n^2}\\right)$ |"
   ]
  },
  {
   "cell_type": "markdown",
   "metadata": {},
   "source": [
    "### Texto\n",
    "\n",
    "+ el texto se muestra sin espacios y con caracteres \"raros\"\n",
    "+ se utiliza \\text{} para escribir dentro de las fórmulas\n",
    "\n",
    "```\n",
    "$$[Actividad]_{Tecnecio metaestable}$$\n",
    "\n",
    "$$[\\text{Actividad}]_{\\text{Tecnecio metaestable}}$$\n",
    "```\n",
    "\n",
    "$$[Actividad]_{Tecnecio metaestable}$$\n",
    "\n",
    "$$[\\text{Actividad}]_{\\text{Tecnecio metaestable}}$$"
   ]
  },
  {
   "cell_type": "markdown",
   "metadata": {},
   "source": []
  },
  {
   "cell_type": "markdown",
   "metadata": {},
   "source": [
    "### Funciones\n",
    "\n",
    "Funciones habituales como seno y logaritmo no se escriben como texto. Hay órdenes especiales, por ejemplo:\n",
    "\n",
    "| Función | Código | Apariencia |\n",
    "| :---: | :---: | :---: |\n",
    "| Logaritmo | \\ln(x) | $ \\ln(x)$ |\n",
    "| Seno | \\sin \\left( \\frac{\\pi}{2} \\right) | $ \\sin \\left( \\frac{\\pi}{2} \\right) $ |\n"
   ]
  },
  {
   "cell_type": "markdown",
   "metadata": {},
   "source": [
    "### Símbolos varios\n",
    "\n",
    "| Código | Apariencia |\n",
    "| :---: | :---: |\n",
    "| \\rightarrow | $\\rightarrow$ |\n",
    "| \\leftarrow | $\\leftarrow$ |\n",
    "| \\pm | $\\pm$ |\n",
    "| \\mp | $\\mp$ |\n",
    "| \\Longleftrightarrow | $\\Longleftrightarrow$ |"
   ]
  },
  {
   "cell_type": "markdown",
   "metadata": {},
   "source": [
    "## Bibliografía\n",
    "\n",
    "+ [Markdown](https://github.com/adam-p/markdown-here/wiki/Markdown-Cheatsheet)\n",
    "+ [Github Flavoured Markdown](https://help.github.com/articles/github-flavored-markdown/)"
   ]
  }
 ],
 "metadata": {
  "kernelspec": {
   "display_name": "Python 3 (ipykernel)",
   "language": "python",
   "name": "python3"
  },
  "language_info": {
   "codemirror_mode": {
    "name": "ipython",
    "version": 3
   },
   "file_extension": ".py",
   "mimetype": "text/x-python",
   "name": "python",
   "nbconvert_exporter": "python",
   "pygments_lexer": "ipython3",
   "version": "3.12.2"
  }
 },
 "nbformat": 4,
 "nbformat_minor": 4
}

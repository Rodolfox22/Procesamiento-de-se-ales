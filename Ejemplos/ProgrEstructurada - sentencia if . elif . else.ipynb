{
 "cells": [
  {
   "cell_type": "markdown",
   "id": "thermal-eligibility",
   "metadata": {},
   "source": [
    "#### if ... elif ... else"
   ]
  },
  {
   "cell_type": "code",
   "execution_count": 1,
   "id": "fabulous-canon",
   "metadata": {},
   "outputs": [
    {
     "name": "stdout",
     "output_type": "stream",
     "text": [
      "Z es igual a 500\n"
     ]
    }
   ],
   "source": [
    "# Usando if ... else\n",
    "z = 500\n",
    "if z > 500:\n",
    "    print('Z es mayor que 500')\n",
    "else:\n",
    "    if z < 500:\n",
    "        print('Z es menor que 500')\n",
    "    else:\n",
    "        if z == 500:\n",
    "            print('Z es igual a 500')\n",
    "        else:\n",
    "            print('No se que es Z')"
   ]
  },
  {
   "cell_type": "code",
   "execution_count": 2,
   "id": "planned-universal",
   "metadata": {},
   "outputs": [
    {
     "name": "stdout",
     "output_type": "stream",
     "text": [
      "Z es igual a 500\n"
     ]
    }
   ],
   "source": [
    "z = 500\n",
    "if z > 500:\n",
    "    print('Z es mayor que 500')\n",
    "elif z < 500:\n",
    "    print('Z es menor que 500')\n",
    "elif z == 500:\n",
    "    print('Z es igual a 500')\n",
    "else:\n",
    "    print('No se que es Z')"
   ]
  },
  {
   "cell_type": "markdown",
   "id": "accessory-portfolio",
   "metadata": {},
   "source": [
    "#### Condiciones compuestas"
   ]
  },
  {
   "cell_type": "code",
   "execution_count": null,
   "id": "modified-seafood",
   "metadata": {},
   "outputs": [],
   "source": [
    "num1 = 10\n",
    "num2 = 14\n",
    "num3 = 12\n",
    "if (num1 >= num2) and (num1 >= num3):\n",
    "   mayor = num1\n",
    "elif (num2 >= num1) and (num2 >= num3):\n",
    "   mayor = num2\n",
    "else:\n",
    "   mayor = num3\n",
    "\n",
    "print(\"El número mayor es\", mayor)"
   ]
  },
  {
   "cell_type": "markdown",
   "id": "dedicated-juvenile",
   "metadata": {},
   "source": [
    "#### Conversión de temperatura"
   ]
  },
  {
   "cell_type": "code",
   "execution_count": null,
   "id": "emotional-chicken",
   "metadata": {},
   "outputs": [],
   "source": [
    "opcion = 'celsius'\n",
    "grados = 100\n",
    "if opcion == 'celsius':         # Ingresa grados Celsius\n",
    "    conversion = grados * 9.0 / 5.0 + 32.0\n",
    "elif opcion == 'fahrenheit':    # Ingresa grados Fahrenheit\n",
    "    conversion = (grados - 32) * 5.0 / 9.0\n",
    "else:\n",
    "    print('Revisar lo ingresado')\n",
    "print(conversion)"
   ]
  }
 ],
 "metadata": {
  "kernelspec": {
   "display_name": "Python 3",
   "language": "python",
   "name": "python3"
  },
  "language_info": {
   "codemirror_mode": {
    "name": "ipython",
    "version": 3
   },
   "file_extension": ".py",
   "mimetype": "text/x-python",
   "name": "python",
   "nbconvert_exporter": "python",
   "pygments_lexer": "ipython3",
   "version": "3.9.5"
  }
 },
 "nbformat": 4,
 "nbformat_minor": 5
}

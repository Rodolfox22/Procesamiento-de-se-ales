{
 "cells": [
  {
   "cell_type": "markdown",
   "id": "fifth-minute",
   "metadata": {},
   "source": [
    "#### Codiciones lógicas o booleanas"
   ]
  },
  {
   "cell_type": "code",
   "execution_count": 1,
   "id": "disciplinary-webmaster",
   "metadata": {},
   "outputs": [
    {
     "data": {
      "text/plain": [
       "False"
      ]
     },
     "execution_count": 1,
     "metadata": {},
     "output_type": "execute_result"
    }
   ],
   "source": [
    "5 > 10"
   ]
  },
  {
   "cell_type": "code",
   "execution_count": 3,
   "id": "engaged-layout",
   "metadata": {
    "scrolled": true
   },
   "outputs": [
    {
     "data": {
      "text/plain": [
       "True"
      ]
     },
     "execution_count": 3,
     "metadata": {},
     "output_type": "execute_result"
    }
   ],
   "source": [
    "4 == 4"
   ]
  },
  {
   "cell_type": "markdown",
   "id": "chicken-pendant",
   "metadata": {},
   "source": [
    "#### Condición if"
   ]
  },
  {
   "cell_type": "code",
   "execution_count": 17,
   "id": "valid-girlfriend",
   "metadata": {},
   "outputs": [
    {
     "name": "stdout",
     "output_type": "stream",
     "text": [
      "Condicion verdadera\n"
     ]
    }
   ],
   "source": [
    "x = 66\n",
    "if x:            # Mientras tenga valor x, la condicion siempre da True\n",
    "    print(\"Condicion verdadera\")"
   ]
  },
  {
   "cell_type": "code",
   "execution_count": 18,
   "id": "presidential-tolerance",
   "metadata": {
    "scrolled": true
   },
   "outputs": [
    {
     "name": "stdout",
     "output_type": "stream",
     "text": [
      "X es menor que Y\n"
     ]
    }
   ],
   "source": [
    "x = 20\n",
    "y = 10\n",
    "if x > y:\n",
    "    print(\"X es mayor que Y\")\n",
    "print(\"X es menor que Y\")"
   ]
  },
  {
   "cell_type": "code",
   "execution_count": 20,
   "id": "flying-treatment",
   "metadata": {},
   "outputs": [
    {
     "name": "stdout",
     "output_type": "stream",
     "text": [
      "Saldo actualizado  -50\n",
      "Saldo restituido  100\n"
     ]
    }
   ],
   "source": [
    "# Restitucion de fondos\n",
    "cuenta = 100\n",
    "retiro = 150\n",
    "balance = cuenta - retiro\n",
    "print(\"Saldo actualizado \", balance)\n",
    "if balance < 0:\n",
    "    transfiero = cuenta - balance\n",
    "    print(\"Saldo restituido \", balance + transfiero)\n",
    "    "
   ]
  },
  {
   "cell_type": "code",
   "execution_count": 1,
   "id": "infrared-belfast",
   "metadata": {},
   "outputs": [
    {
     "name": "stdout",
     "output_type": "stream",
     "text": [
      "3\n",
      "4\n",
      "7\n"
     ]
    }
   ],
   "source": [
    "# En bucle for\n",
    "lista = [3, 4, -5, -6, 7]\n",
    "for num in lista:\n",
    "    if num > 0:\n",
    "        print(num)"
   ]
  }
 ],
 "metadata": {
  "kernelspec": {
   "display_name": "Python 3",
   "language": "python",
   "name": "python3"
  },
  "language_info": {
   "codemirror_mode": {
    "name": "ipython",
    "version": 3
   },
   "file_extension": ".py",
   "mimetype": "text/x-python",
   "name": "python",
   "nbconvert_exporter": "python",
   "pygments_lexer": "ipython3",
   "version": "3.9.5"
  }
 },
 "nbformat": 4,
 "nbformat_minor": 5
}

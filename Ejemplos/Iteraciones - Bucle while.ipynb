{
 "cells": [
  {
   "cell_type": "code",
   "execution_count": null,
   "id": "coordinate-stupid",
   "metadata": {},
   "outputs": [],
   "source": [
    "x=0                # Inicialización\n",
    "while(x <= 5):     # Condición a cumplir\n",
    "  print(x)\n",
    "  x+=1             # El operador += incrementa x en 1 en cada paso"
   ]
  },
  {
   "cell_type": "code",
   "execution_count": null,
   "id": "active-services",
   "metadata": {},
   "outputs": [],
   "source": [
    "i = 0\n",
    "frutas = [\"manzana\", \"banana\", \"cereza\"]          # lista como iterable\n",
    "while i < len(frutas):\n",
    "    print(frutas[i])\n",
    "    i +=  1"
   ]
  },
  {
   "cell_type": "markdown",
   "id": "trying-infrared",
   "metadata": {},
   "source": [
    "El método pop() elimina un elemento de frutas por ciclo. Cuando no queda otro corta el bucle "
   ]
  },
  {
   "cell_type": "code",
   "execution_count": null,
   "id": "sacred-swaziland",
   "metadata": {},
   "outputs": [],
   "source": [
    "frutas = [\"manzana\", \"banana\", \"cereza\"]\n",
    "while frutas:\n",
    "    print(frutas.pop())"
   ]
  },
  {
   "cell_type": "markdown",
   "id": "toxic-drawing",
   "metadata": {},
   "source": [
    " Bucles while anidados"
   ]
  },
  {
   "cell_type": "code",
   "execution_count": null,
   "id": "floating-sustainability",
   "metadata": {},
   "outputs": [],
   "source": [
    "\n",
    "i = 1\n",
    "j = 5\n",
    "while i < 4:\n",
    "    while j < 8:\n",
    "        print(i, \",\", j)\n",
    "        j = j + 1\n",
    "        i = i + 1"
   ]
  },
  {
   "cell_type": "markdown",
   "id": "regional-skiing",
   "metadata": {},
   "source": [
    "El usuario ingresa un número entero, si es par se agrega a la lista num_par, si no se descarta"
   ]
  },
  {
   "cell_type": "code",
   "execution_count": null,
   "id": "detailed-circus",
   "metadata": {},
   "outputs": [],
   "source": [
    "# Crear una lista vacia \n",
    "num_par = []\n",
    "# Cuando la lista alcance a 4 elementos se abandona el bucle\n",
    "while len(num_par) < 4:    \n",
    "    ingreso  = int(input(\"Ingrese un entero: \"))  \n",
    "# input() convierte a cadena por lo que hay que coercionar el ingreso a entero\n",
    "    if ingreso % 2 == 0:             # Operador módulo para determinar si es par\n",
    "        num_par.append(ingreso)\n",
    "        print(num_par)"
   ]
  },
  {
   "cell_type": "markdown",
   "id": "pregnant-singles",
   "metadata": {},
   "source": [
    "Se parte de un valor inicial que decrece en cada iteración; cuando cae por debajo del margen de error tolerado la operación sale del bucle."
   ]
  },
  {
   "cell_type": "code",
   "execution_count": null,
   "id": "blessed-guide",
   "metadata": {},
   "outputs": [],
   "source": [
    "valor_inicial = 20\n",
    "error = 0.5\n",
    "contador = 0\n",
    "while valor_inicial > error:\n",
    "    valor_inicial = valor_inicial / 3\n",
    "    contador = contador + 1             # Una manera de llevar la cuenta\n",
    "#    contador += 1                        # Otra manera de llevar la cuenta\n",
    "print(contador)"
   ]
  },
  {
   "cell_type": "markdown",
   "id": "stable-louisville",
   "metadata": {},
   "source": [
    "##### Bucles infinitos\n",
    "Los siguientes bucles no se detendrán jamás por sí solos. En el primero pues i nunca alcanza el valor límite 10 y en el segundo pues nunca da igual a 100\n",
    "i = 1"
   ]
  },
  {
   "cell_type": "code",
   "execution_count": null,
   "id": "unavailable-conference",
   "metadata": {},
   "outputs": [],
   "source": [
    "i = 1\n",
    "while i <= 10:\n",
    "    print(i, end=\" \")"
   ]
  },
  {
   "cell_type": "code",
   "execution_count": null,
   "id": "national-marina",
   "metadata": {},
   "outputs": [],
   "source": [
    "i = 1\n",
    "while i != 100:\n",
    "    print(i, end=\" \")\n",
    "    i += 2"
   ]
  },
  {
   "cell_type": "code",
   "execution_count": null,
   "id": "compatible-january",
   "metadata": {},
   "outputs": [],
   "source": [
    "# Bucle while\n",
    "\n",
    "x=0                # Inicialización\n",
    "while(x <= 5):     # Condición a cumplir\n",
    "  print(x)\n",
    "  x+=1             # El operador += incrementa x en 1 en cada paso\n",
    "\n",
    "i = 0\n",
    "frutas = [\"manzana\", \"banana\", \"cereza\"]          # lista como iterable\n",
    "while i < len(frutas):\n",
    "    print(frutas[i])\n",
    "    i +=  1\n",
    "\n",
    "El método pop() elimina un elemento de frutas por ciclo. Cuando no queda otro corta el bucle \n",
    "\n",
    "frutas = [\"manzana\", \"banana\", \"cereza\"]\n",
    "while frutas:\n",
    "    print(frutas.pop())\n",
    "\n",
    " Bucles while anidados\n",
    "\n",
    "\n",
    "i = 1\n",
    "j = 5\n",
    "while i < 4:\n",
    "    while j < 8:\n",
    "        print(i, \",\", j)\n",
    "        j = j + 1\n",
    "        i = i + 1\n",
    "\n",
    "El usuario ingresa un número entero, si es par se agrega a la lista num_par, si no se descarta\n",
    "\n",
    "# Crear una lista vacia \n",
    "num_par = []\n",
    "# Cuando la lista alcance a 4 elementos se abandona el bucle\n",
    "while len(num_par) < 4:    \n",
    "    ingreso  = int(input(\"Ingrese un entero: \"))  \n",
    "# input() convierte a cadena por lo que hay que coercionar el ingreso a entero\n",
    "    if ingreso % 2 == 0:             # Operador módulo para determinar si es par\n",
    "        num_par.append(ingreso)\n",
    "        print(num_par)\n",
    "\n",
    "Se parte de un valor inicial que decrece en cada iteración; cuando cae por debajo del margen de error tolerado la operación sale del bucle.\n",
    "\n",
    "valor_inicial = 20\n",
    "error = 0.5\n",
    "contador = 0\n",
    "while valor_inicial > error:\n",
    "    valor_inicial = valor_inicial / 3\n",
    "    contador = contador + 1             # Una manera de llevar la cuenta\n",
    "#    contador += 1                        # Otra manera de llevar la cuenta\n",
    "print(contador)\n",
    "\n",
    "##### Bucles infinitos\n",
    "Los siguientes bucles no se detendrán jamás por sí solos. En el primero pues i nunca alcanza el valor límite 10 y en el segundo pues nunca da igual a 100\n",
    "i = 1\n",
    "\n",
    "i = 1\n",
    "while i <= 10:\n",
    "    print(i, end=\" \")\n",
    "\n",
    "i = 1\n",
    "while i != 100:\n",
    "    print(i, end=\" \")\n",
    "    i += 2"
   ]
  }
 ],
 "metadata": {
  "kernelspec": {
   "display_name": "Python 3 (ipykernel)",
   "language": "python",
   "name": "python3"
  },
  "language_info": {
   "codemirror_mode": {
    "name": "ipython",
    "version": 3
   },
   "file_extension": ".py",
   "mimetype": "text/x-python",
   "name": "python",
   "nbconvert_exporter": "python",
   "pygments_lexer": "ipython3",
   "version": "3.12.2"
  }
 },
 "nbformat": 4,
 "nbformat_minor": 5
}

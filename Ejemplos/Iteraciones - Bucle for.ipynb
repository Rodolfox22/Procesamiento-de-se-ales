{
 "cells": [
  {
   "cell_type": "code",
   "execution_count": 1,
   "metadata": {},
   "outputs": [
    {
     "name": "stdout",
     "output_type": "stream",
     "text": [
      "pera\n",
      "banana\n",
      "naranja\n"
     ]
    }
   ],
   "source": [
    "a = ['pera', 'banana', 'naranja']   # Lista\n",
    "for i in a: \n",
    "    print(i)"
   ]
  },
  {
   "cell_type": "code",
   "execution_count": 2,
   "metadata": {},
   "outputs": [
    {
     "name": "stdout",
     "output_type": "stream",
     "text": [
      "naranja\n",
      "banana\n",
      "pera\n"
     ]
    }
   ],
   "source": [
    "b = {'pera', 'banana', 'naranja'}   # Conjunto\n",
    "for i in b: \n",
    "    print(i)"
   ]
  },
  {
   "cell_type": "code",
   "execution_count": 3,
   "metadata": {},
   "outputs": [
    {
     "name": "stdout",
     "output_type": "stream",
     "text": [
      "pera\n",
      "banana\n",
      "naranja\n"
     ]
    }
   ],
   "source": [
    "c = ('pera', 'banana', 'naranja')   # Tupla\n",
    "for i in c: \n",
    "    print(i)"
   ]
  },
  {
   "cell_type": "code",
   "execution_count": 1,
   "metadata": {},
   "outputs": [
    {
     "name": "stdout",
     "output_type": "stream",
     "text": [
      "c\n",
      "a\n",
      "d\n",
      "e\n",
      "n\n",
      "a\n"
     ]
    }
   ],
   "source": [
    "d = \"cadena\"\n",
    "for letra in d:\n",
    "    print(letra)"
   ]
  },
  {
   "cell_type": "code",
   "execution_count": 4,
   "metadata": {},
   "outputs": [
    {
     "name": "stdout",
     "output_type": "stream",
     "text": [
      "(4, 4)\n",
      "(5, 5)\n",
      "(6, 7)\n"
     ]
    }
   ],
   "source": [
    "c = [(4, 4), (5, 5), (6,7)]    # Lista con tuplas\n",
    "for item in c:\n",
    "    print(item)"
   ]
  },
  {
   "cell_type": "code",
   "execution_count": 9,
   "metadata": {},
   "outputs": [
    {
     "name": "stdout",
     "output_type": "stream",
     "text": [
      "[('Atl Madrid', 'España'), ('Chelsea', 'Gran Bretaña'), ('Napoli', 'Italia')]\n",
      "Atl Madrid\t\tEspaña\t\t\n",
      "Chelsea\t\tGran Bretaña\t\t\n",
      "Napoli\t\tItalia\t\t\n"
     ]
    }
   ],
   "source": [
    "d = [(\"Atl Madrid\", 'España'), ('Chelsea', 'Gran Bretaña'), ('Napoli', 'Italia')]\n",
    "print(d)\n",
    "for value in d:\n",
    "  for elemento in value:\n",
    "    print(elemento, end=\"\\t\\t\")\n",
    "  print(\"\")"
   ]
  },
  {
   "cell_type": "code",
   "execution_count": 10,
   "metadata": {},
   "outputs": [
    {
     "name": "stdout",
     "output_type": "stream",
     "text": [
      "('Atl Madrid', 'España')\n",
      "('Chelsea', 'Gran Bretaña')\n",
      "('Napoli', 'Italia')\n"
     ]
    }
   ],
   "source": [
    "for i in d:\n",
    "    print(i)"
   ]
  },
  {
   "cell_type": "code",
   "execution_count": 11,
   "metadata": {},
   "outputs": [
    {
     "name": "stdout",
     "output_type": "stream",
     "text": [
      "Atl Madrid juega en España\n",
      "Chelsea juega en Gran Bretaña\n",
      "Napoli juega en Italia\n"
     ]
    }
   ],
   "source": [
    "for i, j in d:\n",
    "    print(i + ' juega en ' + j)"
   ]
  },
  {
   "cell_type": "markdown",
   "metadata": {},
   "source": [
    "#### Funcion range() - tres sintaxis"
   ]
  },
  {
   "cell_type": "code",
   "execution_count": 1,
   "metadata": {},
   "outputs": [
    {
     "name": "stdout",
     "output_type": "stream",
     "text": [
      "0\n",
      "1\n",
      "2\n",
      "3\n"
     ]
    }
   ],
   "source": [
    "for i in range(4):        # Rango de iteradores\n",
    "    print(i)"
   ]
  },
  {
   "cell_type": "code",
   "execution_count": 2,
   "metadata": {},
   "outputs": [
    {
     "name": "stdout",
     "output_type": "stream",
     "text": [
      "2\n",
      "3\n",
      "4\n",
      "5\n",
      "6\n",
      "7\n",
      "8\n",
      "9\n",
      "10\n",
      "11\n",
      "12\n",
      "13\n"
     ]
    }
   ],
   "source": [
    "for i in range(2, 14):    # Iterador inicial y final\n",
    "    print(i)"
   ]
  },
  {
   "cell_type": "code",
   "execution_count": 12,
   "metadata": {},
   "outputs": [
    {
     "name": "stdout",
     "output_type": "stream",
     "text": [
      "2\n",
      "5\n",
      "8\n",
      "11\n"
     ]
    }
   ],
   "source": [
    "for i in range(2, 14, 3):  # Iterador inicial, final y salto\n",
    "    print(i)               # El contador se detiene antes de la ultima ejecucion  "
   ]
  },
  {
   "cell_type": "code",
   "execution_count": 15,
   "metadata": {},
   "outputs": [
    {
     "name": "stdout",
     "output_type": "stream",
     "text": [
      "14\n",
      "11\n",
      "8\n",
      "5\n"
     ]
    }
   ],
   "source": [
    "for i in range(14, 2, -3):  # Invertir el orden\n",
    "    print(i) "
   ]
  },
  {
   "cell_type": "code",
   "execution_count": 4,
   "metadata": {},
   "outputs": [
    {
     "name": "stdout",
     "output_type": "stream",
     "text": [
      "0 0\n",
      "1 1\n",
      "2 2\n",
      "3 3\n"
     ]
    }
   ],
   "source": [
    "# Si se desea exponer el índice insertar un contador de ciclos\n",
    "cont  = 0\n",
    "for i in range(4):\n",
    "    print(cont, i)\n",
    "    cont += 1"
   ]
  },
  {
   "cell_type": "code",
   "execution_count": 16,
   "metadata": {},
   "outputs": [
    {
     "name": "stdout",
     "output_type": "stream",
     "text": [
      "0 {'año': 2019, 'campeon': 'España', 'res': [2, 0], 'venue': 'Madrid'}\n",
      "1 {'año': 2018, 'campeon': 'Croacia', 'res': [3, 1], 'venue': 'Lille'}\n",
      "2 {'año': 2017, 'campeon': 'Francia', 'res': [3, 2], 'venue': 'Lille'}\n",
      "3 {'año': 2016, 'campeon': 'Argentina', 'res': [3, 2], 'venue': 'Zagreb'}\n",
      "4 {'año': 2015, 'campeon': 'Gran Bretaña', 'res': [3, 1], 'venue': 'Ghent'}\n",
      "\n",
      "0 España\n",
      "1 Croacia\n",
      "2 Francia\n",
      "3 Argentina\n",
      "4 Gran Bretaña\n",
      "\n"
     ]
    }
   ],
   "source": [
    "# Usar un diccionario como iterable\n",
    "lista_dict = [{'año':2019, 'campeon':'España', 'res':[2,0], 'venue':'Madrid'},\n",
    "{'año':2018, 'campeon':'Croacia', 'res':[3,1], 'venue':'Lille'},\n",
    "{'año':2017, 'campeon':'Francia', 'res':[3,2], 'venue':'Lille'},\n",
    "{'año':2016, 'campeon':'Argentina', 'res':[3,2], 'venue':'Zagreb'},\n",
    "{'año':2015, 'campeon':'Gran Bretaña', 'res':[3,1], 'venue':'Ghent'}]\n",
    "\n",
    "#Imprimir las filas precedidas por los indices de filas\n",
    "ind = 0\n",
    "for i in lista_dict:\n",
    "    print(ind, i)\n",
    "    ind+= 1\n",
    "print()\n",
    "\n",
    "#Imprimir los países campeones precedidos por los indices de filas\n",
    "ind = 0\n",
    "for i in lista_dict:\n",
    "    print(ind, i['campeon'])\n",
    "    ind+= 1\n",
    "print()"
   ]
  },
  {
   "cell_type": "code",
   "execution_count": 17,
   "metadata": {},
   "outputs": [
    {
     "name": "stdout",
     "output_type": "stream",
     "text": [
      "114 160 60 27 \n",
      "74 97 73 14 \n",
      "119 157 112 23 \n"
     ]
    }
   ],
   "source": [
    "# Bucles for y matrices\n",
    "matrix = [[114, 160, 60, 27], [74, 97, 73, 14], [119, 157, 112, 23]]\n",
    "\n",
    "# Imprimir la matriz\n",
    "for i in range(3):\n",
    "    for j in range(4):\n",
    "        print(matrix[i][j], end=\" \")\n",
    "    print()"
   ]
  },
  {
   "cell_type": "markdown",
   "metadata": {},
   "source": [
    "#### Función enumerate()\n",
    "La sintaxis por defecto es\n",
    "enumerate(iterable, start=0)"
   ]
  },
  {
   "cell_type": "code",
   "execution_count": null,
   "metadata": {},
   "outputs": [],
   "source": [
    "lista1 = [\"uno\",\"dos\",\"tres\"]\n",
    "enum1 = enumerate(lista1)\n",
    "print(list(enum1))\n",
    "print(type(enum1))  # Devuelve una lista de tuplas y el tipo enumerate."
   ]
  },
  {
   "cell_type": "code",
   "execution_count": null,
   "metadata": {},
   "outputs": [],
   "source": [
    "# enumerate() es particularmente útil en bucles que requieran conocer \n",
    "#           tanto los índices de posición como los items.\n",
    "equipos = [\"River\",\"Boca\",\"Temperley\", \"Atletico\"]\n",
    "for i, equipo in enumerate(equipos, 1):\n",
    "    print(i, equipo)"
   ]
  },
  {
   "cell_type": "code",
   "execution_count": null,
   "metadata": {},
   "outputs": [],
   "source": [
    "# Ejemplo más elaborado. El iterable es una lista con tuplas con el equipo \n",
    "#  y año de campeón en el torneo Seis Naciones de rugby.\n",
    "torneo = [(2020, 'Inglaterra'), (2019, 'Gales'), (2018, 'Irlanda'), (2017, 'Inglaterra')]\n",
    "for i, (año, equipo) in enumerate(torneo):\n",
    "    print(f\"Campeon: {año}, Pais: {equipo}\")"
   ]
  }
 ],
 "metadata": {
  "kernelspec": {
   "display_name": "Python 3 (ipykernel)",
   "language": "python",
   "name": "python3"
  },
  "language_info": {
   "codemirror_mode": {
    "name": "ipython",
    "version": 3
   },
   "file_extension": ".py",
   "mimetype": "text/x-python",
   "name": "python",
   "nbconvert_exporter": "python",
   "pygments_lexer": "ipython3",
   "version": "3.8.0"
  }
 },
 "nbformat": 4,
 "nbformat_minor": 4
}

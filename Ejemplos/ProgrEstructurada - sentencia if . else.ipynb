{
 "cells": [
  {
   "cell_type": "markdown",
   "id": "damaged-holly",
   "metadata": {},
   "source": [
    "#### if ... else"
   ]
  },
  {
   "cell_type": "code",
   "execution_count": 2,
   "id": "exterior-replacement",
   "metadata": {},
   "outputs": [
    {
     "name": "stdout",
     "output_type": "stream",
     "text": [
      "Y es mayor que X\n"
     ]
    }
   ],
   "source": [
    "x = 20\n",
    "y = 10\n",
    "if x < y:\n",
    "    print(\"X es mayor que Y\")\n",
    "else:\n",
    "    print(\"Y es mayor que X\")"
   ]
  },
  {
   "cell_type": "code",
   "execution_count": 4,
   "id": "broad-championship",
   "metadata": {
    "scrolled": true
   },
   "outputs": [
    {
     "name": "stdout",
     "output_type": "stream",
     "text": [
      "Por favor deme la temperatura 23\n",
      "Esta fresco\n"
     ]
    }
   ],
   "source": [
    "temperatura = float(input(\"Por favor deme la temperatura \"))\n",
    "t = temperatura\n",
    "if t > 25:\n",
    "    print(\"Hace calor\")\n",
    "else:\n",
    "    print(\"Esta fresco\")"
   ]
  },
  {
   "cell_type": "code",
   "execution_count": 1,
   "id": "together-christianity",
   "metadata": {},
   "outputs": [
    {
     "data": {
      "text/plain": [
       "[1, 2, 3]"
      ]
     },
     "execution_count": 1,
     "metadata": {},
     "output_type": "execute_result"
    }
   ],
   "source": [
    "# Eliminar duplicados en una lista\n",
    "\n",
    "def eliminar_duplicados(lista):         # Declaracion\n",
    "    lista2 = []                         # Crear lista vacia\n",
    "    for item in lista:\n",
    "        if item not in lista2:      # Si item no esta en lista\n",
    "            lista2.append(item)     #  agregarlo\n",
    "        else:                                               \n",
    "            pass                    # Si está pasar al siguiente elemento \n",
    "    return lista2                       # Devolver la lista modificada\n",
    "\n",
    "# Invocar la función pasando una lista:\n",
    "eliminar_duplicados([1,2,3,3])"
   ]
  },
  {
   "cell_type": "code",
   "execution_count": 2,
   "id": "manual-package",
   "metadata": {},
   "outputs": [
    {
     "name": "stdout",
     "output_type": "stream",
     "text": [
      "2.7777777777777777\n"
     ]
    }
   ],
   "source": [
    "def opcion_escala(opcion, grados):\n",
    "    if opcion == 'celsius':\n",
    "        gradCelsius = grados * 9.0 / 5.0 + 32.0\n",
    "        print(gradCelsius)\n",
    "    else: \n",
    "        opcion == 'fahrenheit'\n",
    "        gradFahr = (grados - 32) * 5.0 / 9.0\n",
    "        print(gradFahr)\n",
    "\n",
    "# Invocar la función\n",
    "opcion_escala('fahrenheit', 37)"
   ]
  },
  {
   "cell_type": "code",
   "execution_count": 6,
   "id": "automotive-difficulty",
   "metadata": {},
   "outputs": [
    {
     "name": "stdout",
     "output_type": "stream",
     "text": [
      "Y es mayor que X\n"
     ]
    }
   ],
   "source": [
    "# Condiciones anidadas\n",
    "x = 20\n",
    "y = 10\n",
    "if type(x) == int and type(y) == int:\n",
    "    if x < y:\n",
    "        print(\"X es mayor que Y\")\n",
    "    else:\n",
    "        print(\"Y es mayor que X\")"
   ]
  }
 ],
 "metadata": {
  "kernelspec": {
   "display_name": "Python 3 (ipykernel)",
   "language": "python",
   "name": "python3"
  },
  "language_info": {
   "codemirror_mode": {
    "name": "ipython",
    "version": 3
   },
   "file_extension": ".py",
   "mimetype": "text/x-python",
   "name": "python",
   "nbconvert_exporter": "python",
   "pygments_lexer": "ipython3",
   "version": "3.12.2"
  }
 },
 "nbformat": 4,
 "nbformat_minor": 5
}

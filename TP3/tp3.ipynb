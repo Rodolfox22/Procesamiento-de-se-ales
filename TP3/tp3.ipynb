{
 "cells": [
  {
   "cell_type": "markdown",
   "metadata": {},
   "source": [
    "# TrabajoPrácticoNro3"
   ]
  },
  {
   "cell_type": "markdown",
   "metadata": {},
   "source": [
    "### Ejercicio 1\n",
    "La señal $x(t)=sen(2π100t)$ se muestrea con un periodo de muestreo de $T=1/400 seg$ y se obtiene una señal en tiempo discreto $ x[n] $.<br>¿Cuál es la señal resultante $ x[n] $?"
   ]
  },
  {
   "cell_type": "markdown",
   "metadata": {},
   "source": [
    "$$x[n]=sin(2π100(nT))$$\n",
    "$$x[n]=sin(2π100 (n \\frac{1}{400} ))$$\n",
    "$$x[n]=sin( \\frac{2π n}{4} )$$\n",
    "Resultante:\n",
    "$$x[n]=sin( \\frac{π n}{2} )$$\n"
   ]
  },
  {
   "cell_type": "markdown",
   "metadata": {},
   "source": [
    "### Ejercicio 2\n",
    "La secuencia $x[n]=cos(π/4*n)$ se obtiene muestreando la señal en tiempo continuo $x(t)=cos(Ω_0*t)$ con una frecuencia de 1000 muestras/s. Indique dos posibles valores de $Ω_0$ que podrían producir la secuencia $x[n]$"
   ]
  },
  {
   "cell_type": "markdown",
   "metadata": {},
   "source": [
    "$$\\omega _0= \\Omega _0 * T_s$$\n",
    "$$\\frac{\\pi}{4} = \\Omega _0 * \\frac{1}{1000} $$\n",
    "$$\\frac{\\pi}{4} = \\Omega _0 * \\frac{1}{1000} $$\n",
    "$$\\Omega _0=\\frac{\\pi *1000}{4}$$\n",
    "Respuesta:\n",
    "$$\\Omega _0= 250\\pi $$\n",
    "$$\\Omega _1= 250\\pi +2*\\pi *1000$$\n",
    "$$\\Omega _1= 2250\\pi $$"
   ]
  },
  {
   "cell_type": "markdown",
   "metadata": {},
   "source": [
    "### Ejercicio 3\n",
    "La señal en tiempo continuo $x(t)=cos(4000π*t)$ se muestrea con periodo T y se obtiene la señal en tiempo discreto $x[n]=cos(π*n/3)$ <br>\n",
    "a) Determine un valor de T que sea consistente con esta información. <br>\n",
    "$$\\omega =\\Omega * T$$\n",
    "$$\\frac{\\pi}3 =4000*\\pi * T$$\n",
    "$$T=\\frac{\\pi }{4000*3*\\pi } $$\n",
    "$$T=\\frac{1 }{12000 } $$\n",
    "b)¿Es único el valor de T obtenido en (a)? Si es así, explique porqué. Sino, indique otro valor de T que sea consistente con la información dada.\n",
    "\n",
    "\n"
   ]
  },
  {
   "cell_type": "markdown",
   "metadata": {},
   "source": [
    "### Ejercicio 4\n",
    "La señal en tiempo continuo: $x(t)=sen(20π*t)+cos(40π*t)$ se muestrea con periodo T y se obtiene la señal en tiempo discreto $x[n]=sen(π*n/5)+cos(2π*n/5)$ <br<>\n",
    "a) Determine un valor de T que sea consistente con esta información. \n",
    "$$\\omega _1=\\Omega _1* T_1$$\n",
    "$$\\frac{\\pi}5 =20*\\pi * T_1$$\n",
    "$$T_1=\\frac{\\pi }{20*5*\\pi } $$\n",
    "$$T_1=\\frac{1 }{100} $$\n",
    "\n",
    "$$\\omega _2=\\Omega _2* T_2$$\n",
    "$$\\frac{2*\\pi}5 =40*\\pi * T_2$$\n",
    "$$T_2=\\frac{2*\\pi }{40*5*\\pi } $$\n",
    "$$T_2=\\frac{2 }{200}= \\frac{1 }{100}$$\n",
    "b)¿Es único el valor de T obtenido en (a)? Si es así, explique porqué. Sino,indique otro valor de T que sea consistente con la información dada.\n"
   ]
  },
  {
   "cell_type": "markdown",
   "metadata": {},
   "source": [
    "### Ejercicio 5\n",
    "Considere la siguiente señal analógica: $x(t)=3cos(2000π*t)+5sen(6000π*t)+10cos(12000π*t)$ \n",
    "(a) ¿Cuál es la frecuencia de Nyquist para esta señal?<br>\n",
    "$$f_1=\\frac{2000\\pi}{2\\pi}=1000Hz$$\n",
    "$$f_2=\\frac{6000\\pi}{2\\pi}=3000Hz$$\n",
    "$$f_3=\\frac{12000\\pi}{2\\pi}=6000Hz$$\n",
    "Frecuencia de Nyquist:\n",
    "$$f_N=2*6000Hz=12000Hz$$\n",
    "(b) Suponga que esta señal se muestrea empleando una tasa de muestreo de $Fs=5000muestras/s$ . ¿Cómo es la señal discreta en el tiempo obtenida después del muestreo?<br>\n",
    "Al ser la frecuencia de muestreo mucho menor a la frecuencia de Nyquist, tanto la $f_2$ como la $f_3$ serán mostradas con cierta distorsión."
   ]
  },
  {
   "cell_type": "markdown",
   "metadata": {},
   "source": [
    "### Ejercicio 6\n",
    "Considere la señal analógica $x(t)=3cos(100πt)$ <br>\n",
    "(a) Determine la frecuencia de muestreo mínima necesaria para evitar el aliasing. <br>\n",
    "$$f_0=\\frac{\\omega}{2\\pi }$$\n",
    "$$f_0=\\frac{100\\pi}{2\\pi }$$\n",
    "$$f_0=50Hz$$\n",
    "Respuesta:<br>\n",
    "Para prevenir antialiasing será necesario muestrear la señal a una frecuencia de $f_s=2*f_0=100Hz$ <br><br>\n",
    "(b) Suponga que la señal se muestrea a la frecuencia $F_s=200Hz$.¿Qué señal discreta en el tiempo se obtiene después de la operación de muestreo?<br>\n",
    "COn la frenuencia de muestreo de 200Hz se obtiene la señal original corectamente visualizada ya que supera la frecuencia de Nyquist\n",
    "<br> <br>\n",
    "(c) Suponga que la señal se muestrea a la frecuencia $F_s=75Hz$.¿Qué señal discreta en el tiempo se obtiene después del muestreo?<br>\n",
    "COn la frecuencia de muestreo se puede observar una señal distorsionada<br><br>\n",
    "(d) ¿Cuál es la frecuencia $0< F< \\frac{Fs}2$ de una sinusoide que produce muestras idénticas a las obtenidas en el apartado(c)?"
   ]
  },
  {
   "cell_type": "markdown",
   "metadata": {},
   "source": [
    "### Ejercicio 7\n",
    "Una señal analógica de electrocardiograma (ECG) contiene frecuencias útiles hasta 100Hz.<br>\n",
    "(a) ¿Cuál es la frecuencia de Nyquist de esta señal?<br>\n",
    "$$f_N=2*f_0$$\n",
    "$$f_N=2*100Hz$$\n",
    "$$f_N=200Hz$$\n",
    "(b) Suponga que muestreamos esta señal a una tasa de 250 muestras/s. ¿Cuál es la frecuencia más alta que puede representarse para esta tasa de muestreo?<br>\n",
    "$$f_{max}=\\frac{250}2$$\n",
    "$$f_{max}=125Hz$$\n"
   ]
  },
  {
   "cell_type": "markdown",
   "metadata": {},
   "source": [
    "### Ejercicio 8\n",
    "Un enlace de comunicaciones digital transporta palabras codificadas en binario que representan muestras de una señal de entrada $x(t)=3cos(600π*t)+2cos(1800π*t)$ El enlace trabaja a una velocidad de 10.000bits/s y cada muestra de entrada se cuantifica en 1024 niveles de tensión distintos.<br>\n",
    "a) Determine las frecuencias de muestreo y de solapamiento.<br>\n",
    "$$f_1=\\frac{600\\pi}{2\\pi}=300Hz $$\n",
    "$$f_2=\\frac{1800\\pi}{2\\pi}=900Hz $$\n",
    "$$f_s=2*f_2=2*900Hz=1800Hz$$\n",
    "Respuesta: la frecuencia de muestreo coincide con la frecuencia de solapamiento: $1800Hz$\n",
    "b) ¿Cuál es la frecuencia de Nyquist de la señal x a (t)?<br>\n",
    "$$f_N=2*f_s=2*900Hz=1800Hz$$\n",
    "c)¿Cuáles son las frecuencias de la señal discreta en el tiempo resultante $x(n)$?<br>\n",
    "$$f_1=\\frac{600\\pi}{2\\pi}=300Hz $$\n",
    "$$f_2=\\frac{1800\\pi}{2\\pi}=900Hz $$\n",
    "d)¿Cuál es la resolución ∆?"
   ]
  }
 ],
 "metadata": {
  "language_info": {
   "name": "python"
  }
 },
 "nbformat": 4,
 "nbformat_minor": 2
}

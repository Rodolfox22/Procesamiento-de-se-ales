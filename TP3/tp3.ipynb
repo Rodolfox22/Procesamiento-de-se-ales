{
 "cells": [
  {
   "cell_type": "markdown",
   "metadata": {},
   "source": [
    "# TrabajoPrácticoNro3"
   ]
  },
  {
   "cell_type": "markdown",
   "metadata": {},
   "source": [
    "### Ejercicio 1\n",
    "La señal $x(t)=sen(2π100t)$ se muestrea con un periodo de muestreo de $T=1/400 seg$ y se obtiene una señal en tiempo discreto $x[n]$ .¿Cuál es la señal resultante $x[n]$?"
   ]
  },
  {
   "cell_type": "markdown",
   "metadata": {},
   "source": [
    "### Ejercicio 2\n",
    "La secuencia $x[n]=cos(π/4*n)$ se obtiene muestreando la señal en tiempo continuo $x(t)=cos(Ω_0*t)$ con una frecuencia de 1000 muestras/s. Indique dos posibles valores de $Ω_0$ que podrían producir la secuencia $x[n]$"
   ]
  },
  {
   "cell_type": "markdown",
   "metadata": {},
   "source": [
    "### Ejercicio 3\n",
    "La señal en tiempo continuo $x(t)=cos(4000πt)$ se muestrea con periodo T y se obtiene la señal en tiempo discreto $x[n]=cos(πn/3)$ <br>\n",
    "a) Determine un valor de T que sea consistente con esta información. <br>\n",
    "b)¿Es único el valor de T obtenido en (a)? Si es así, explique porqué. Sino,indique otro valor de T que sea consistente con la información dada."
   ]
  },
  {
   "cell_type": "markdown",
   "metadata": {},
   "source": [
    "### Ejercicio 4\n",
    "La señal en tiempo continuo: $x(t)=sen(20πt)+cos(40πt)$ se muestrea con periodo T y se obtiene la señal en tiempo discreto $x[n]=sen(πn/5)+cos(2πn/5)$ <br<>\n",
    "a) Determine un valor de T que sea consistente con esta información. <br>\n",
    "b)¿Es único el valor de T obtenido en (a)? Si es así, explique porqué. Sino,indique otro valor de T que sea consistente con la información dada.\n"
   ]
  },
  {
   "cell_type": "markdown",
   "metadata": {},
   "source": [
    "### Ejercicio 5\n",
    "Considere la siguiente señal analógica: $x(t)=3cos(2000πt)+5sen(6000πt)+(10cos12,000πt)$ \n",
    "(a) ¿Cuál es la frecuencia de Nyquist para esta señal?<br>\n",
    "(b) Suponga que esta señal se muestrea empleando una tasa de muestreo de Fs=\n",
    "5000muestras/s. ¿Cómo es la señal discreta en el tiempo obtenida después del muestreo?"
   ]
  },
  {
   "cell_type": "markdown",
   "metadata": {},
   "source": [
    "### Ejercicio 6\n",
    "Considere la señal analógica $x(t)=3cos(100πt)$ <br>\n",
    "(a) Determine la frecuencia de muestreo mínima necesaria para evitar el aliasing. <br>\n",
    "(b) Suponga que la señal se muestrea a la frecuencia Fs=200Hz.¿Qué señal discreta en el tiempo se obtiene después de la operación de muestreo?<br> \n",
    "(c) Suponga que la señal se muestrea a la frecuencia Fs=75Hz.¿Qué señal discreta en el tiempo se obtiene después del muestreo? <br>\n",
    "(d) ¿Cuál es la frecuencia $0<F<Fs/2$ de una sinusoide que produce muestras idénticas a las obtenidas en el apartado(c)?"
   ]
  },
  {
   "cell_type": "markdown",
   "metadata": {},
   "source": [
    "### Ejercicio 7\n",
    "Una señal analógica de electrocardiograma (ECG) contiene frecuencias útiles hasta 100Hz.<br>\n",
    "(a) ¿Cuál es la frecuencia de Nyquist de esta señal?<br>\n",
    "(b) Suponga que muestreamos esta señal a una tasa de 250 muestras/s. ¿Cuál es la frecuencia más alta que puede representarse para esta tasa de muestreo?"
   ]
  },
  {
   "cell_type": "markdown",
   "metadata": {},
   "source": [
    "### Ejercicio 8\n",
    "Un enlace de comunicaciones digital transporta palabras codificadas en binario que representan muestras de una señal de entrada $x(t)=3cos(600πt)+2cos(1800πt)$ El enlace trabaja a una velocidad de 10.000bits/s y cada muestra de entrada se cuantifica en 1024 niveles de tensión distintos.<br>\n",
    "a) Determine las frecuencias de muestreo y de solapamiento.<br>\n",
    "b) ¿Cuál es la frecuencia de Nyquist de la señal x a (t)?<br>\n",
    "c)¿Cuáles son las frecuencias de la señal discreta en el tiempo resultante $x(n)$?<br>\n",
    "d)¿Cuál es la resolución ∆?"
   ]
  }
 ],
 "metadata": {
  "language_info": {
   "name": "python"
  }
 },
 "nbformat": 4,
 "nbformat_minor": 2
}

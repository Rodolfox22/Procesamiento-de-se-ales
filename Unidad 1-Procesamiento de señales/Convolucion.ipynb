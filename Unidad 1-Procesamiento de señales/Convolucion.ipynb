{
 "cells": [
  {
   "cell_type": "markdown",
   "metadata": {},
   "source": [
    "# CONVOLUCIÓN"
   ]
  },
  {
   "cell_type": "markdown",
   "metadata": {},
   "source": [
    "La convolución es una forma matemática de combinar dos señales para formar una tercera señal.\n",
    "La convolución es uno de los procesos más importantes y eficaces en el análisis de sistemas LTI, ya que permite establecer una relación entre la entrada y la salida en el dominio del tiempo y el de la frecuencia. Una multiplicación en el dominio del tiempo implica una convolución en la frecuencia o a la inversa, una multiplicación en el dominio de la frecuencia implica una convolución en el tiempo.\n"
   ]
  },
  {
   "cell_type": "markdown",
   "metadata": {},
   "source": [
    "Veamos la convolución entre señales para explicar el proceso matemático de la operación. \n",
    "\n",
    "La convolución se realiza entre dos señales, una de ellas es la señal de entrada (I), y a la segunda le llamamos kernel de convolución (k). En la operación de convolución el kernel sufre una operación de reflexión y luego se desplaza a lo largo de la señal de entrada, sumando los productos de los elementos que se solapan de k en I."
   ]
  },
  {
   "cell_type": "markdown",
   "metadata": {},
   "source": [
    "## Ejemplo básico convolución"
   ]
  },
  {
   "cell_type": "code",
   "execution_count": 1,
   "metadata": {},
   "outputs": [],
   "source": [
    "import numpy as np\n",
    "import matplotlib.pyplot as plt"
   ]
  },
  {
   "cell_type": "markdown",
   "metadata": {},
   "source": [
    "Creamos una señal de entrada $I$, y un kernel de convolución $k$. Luego graficamos las señales y verificamos su longitud."
   ]
  },
  {
   "cell_type": "code",
   "execution_count": 11,
   "metadata": {},
   "outputs": [
    {
     "name": "stdout",
     "output_type": "stream",
     "text": [
      "Longitud de la señal de entrada: 7\n",
      "Longitud del kernel de convolucion: 3\n"
     ]
    },
    {
     "data": {
      "text/plain": [
       "([<matplotlib.axis.YTick at 0x139e260b500>,\n",
       "  <matplotlib.axis.YTick at 0x139df649460>,\n",
       "  <matplotlib.axis.YTick at 0x139e260a5d0>,\n",
       "  <matplotlib.axis.YTick at 0x139e2772c60>],\n",
       " [Text(0, -1, '−1'), Text(0, 0, '0'), Text(0, 1, '1'), Text(0, 2, '2')])"
      ]
     },
     "execution_count": 11,
     "metadata": {},
     "output_type": "execute_result"
    },
    {
     "data": {
      "image/png": "[encoded data removed]",
      "text/plain": [
       "<Figure size 640x480 with 2 Axes>"
      ]
     },
     "metadata": {},
     "output_type": "display_data"
    }
   ],
   "source": [
    "I = np.array([0,2,2,2,-1,-1,0]) #señal de entrada\n",
    "k = np.array([0,1,1]) #kernel de convolucion\n",
    "\n",
    "print('Longitud de la señal de entrada: {}'.format(len(I)))\n",
    "print('Longitud del kernel de convolucion: {}'.format(len(k)))\n",
    "\n",
    "plt.subplot(2,1,1)\n",
    "plt.stem(I)\n",
    "\n",
    "plt.subplot(2,1,2)\n",
    "plt.stem(k)\n",
    "plt.xticks(range(7))\n",
    "plt.yticks(range(-1,3))"
   ]
  },
  {
   "cell_type": "markdown",
   "metadata": {},
   "source": [
    "Realizamos la operacion de convolución entre I y k"
   ]
  },
  {
   "cell_type": "code",
   "execution_count": 3,
   "metadata": {},
   "outputs": [
    {
     "name": "stdout",
     "output_type": "stream",
     "text": [
      "La longitud de la señal resulstante debe ser (len(I)+ len(k)-1): 9\n"
     ]
    }
   ],
   "source": [
    "convolucion = np.convolve(I,k)\n",
    "print('La longitud de la señal resulstante debe ser (len(I)+ len(k)-1): {}'.format(len(convolucion)))"
   ]
  },
  {
   "cell_type": "code",
   "execution_count": 4,
   "metadata": {},
   "outputs": [
    {
     "data": {
      "text/plain": [
       "<StemContainer object of 3 artists>"
      ]
     },
     "execution_count": 4,
     "metadata": {},
     "output_type": "execute_result"
    },
    {
     "data": {
      "image/png": "[encoded data removed]",
      "text/plain": [
       "<Figure size 640x480 with 1 Axes>"
      ]
     },
     "metadata": {},
     "output_type": "display_data"
    }
   ],
   "source": [
    "plt.stem(convolucion)"
   ]
  },
  {
   "cell_type": "markdown",
   "metadata": {},
   "source": [
    "Veamos como se entiende esta operación matematicamente.\n",
    "La convolución se se expresa como: $$ S(n) = I[n] \\circledast k[n] = \\sum_{m=I_{min}}^{I_{max}} I(m)·k(n-m)$$\n",
    "\n",
    " ![Imagen](Convolucion.png)\n",
    "\n",
    " Matematicamente la convolución entre dos señales se obtiene resolviendo la sumatoria anterior. Graficamente se resuelve de la siguiente manera:\n",
    " Para ello debemos realizar dos pasos previos, primero invertir el kernel de convolución y luego sumar los prodcutos de los valores que se solapan al desplazar el kernel a lo largo de la señal de entrada. Veamos como se resuelve nuestro ejemplo:\n",
    "\n",
    " 1. Invertimos el kernel de convlución\n",
    "\n",
    "![Imagen](kernel_invertido.png)\n",
    "\n",
    " 2. Luego vamos a desplazar el kernel invertido a lo largo de toda la señal de entrada y vamos a tomar el producto de los elementos que se solapan y luego la suma de esos productos. Veamos el paso a paso.\n",
    "\n",
    "![Imagen](paso_1.png)\n",
    "\n",
    "En el primer valor solamente se va a solapar el primer elemento de la señal de entrada con el último elemento del kernel. El resultado del producto de ambos elementos es 0\n",
    "\n",
    "![Imagen](resultado_1.png)\n",
    "\n",
    "Luego desplazamos el kernel y tenemos que se solapan dos elementos. Sumamos los productos y obtenemos también 0 $(1*0 + 2*0 = 0)$\n",
    "\n",
    "![Imagen](resultado_2.png)\n",
    "\n",
    "Seguimos desplazando el kernel y sumando el producto de los elementos que se solapan:\n",
    "\n",
    "![Imagen](resultado_3.png)\n",
    "\n",
    "\n",
    "Desplazamos y resolvemos \n",
    "\n",
    "![Imagen](resultado_4.png)\n",
    "\n",
    "\n",
    "Desplazamos y resolvemos \n",
    "\n",
    "![Imagen](resultado_5.png)\n",
    "\n",
    "\n",
    "Desplazamos y resolvemos \n",
    "\n",
    "![Imagen](resultado_6.png)\n",
    "\n",
    "\n",
    "Desplazamos y resolvemos \n",
    "\n",
    "![Imagen](resultado_7.png)\n",
    "\n",
    "\n",
    "Desplazamos y resolvemos \n",
    "\n",
    "![Imagen](resultado_8.png)\n",
    "\n",
    "\n",
    "Obtenemos el resultado final el cual coincide con el resultado obtenido en python:\n",
    "\n",
    "![Imagen](resultado_9.png)\n"
   ]
  },
  {
   "cell_type": "code",
   "execution_count": null,
   "metadata": {},
   "outputs": [],
   "source": []
  }
 ],
 "metadata": {
  "kernelspec": {
   "display_name": "Python 3 (ipykernel)",
   "language": "python",
   "name": "python3"
  },
  "language_info": {
   "codemirror_mode": {
    "name": "ipython",
    "version": 3
   },
   "file_extension": ".py",
   "mimetype": "text/x-python",
   "name": "python",
   "nbconvert_exporter": "python",
   "pygments_lexer": "ipython3",
   "version": "3.12.2"
  }
 },
 "nbformat": 4,
 "nbformat_minor": 4
}
